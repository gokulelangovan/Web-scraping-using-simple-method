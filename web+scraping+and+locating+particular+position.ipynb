{
 "cells": [
  {
   "cell_type": "code",
   "execution_count": 2,
   "metadata": {},
   "outputs": [
    {
     "name": "stdout",
     "output_type": "stream",
     "text": [
      "Enter count:7\n",
      "Enter position:18\n",
      "Retrieving:  http://py4e-data.dr-chuck.net/known_by_Kadyleigh.html\n",
      "Retrieving:  http://py4e-data.dr-chuck.net/known_by_Owyn.html\n",
      "Retrieving:  http://py4e-data.dr-chuck.net/known_by_Kashif.html\n",
      "Retrieving:  http://py4e-data.dr-chuck.net/known_by_Anmar.html\n",
      "Retrieving:  http://py4e-data.dr-chuck.net/known_by_Magdalene.html\n",
      "Retrieving:  http://py4e-data.dr-chuck.net/known_by_Richey.html\n",
      "Retrieving:  http://py4e-data.dr-chuck.net/known_by_Yuanyu.html\n",
      "Retrieving:  http://py4e-data.dr-chuck.net/known_by_Aimiee.html\n"
     ]
    }
   ],
   "source": [
    "import urllib.request, urllib.parse, urllib.error\n",
    "from bs4 import BeautifulSoup\n",
    "import ssl\n",
    "\n",
    "ctx = ssl.create_default_context()\n",
    "ctx.check_hostname = False\n",
    "ctx.verify_mode = ssl.CERT_NONE\n",
    "\n",
    "url = \"http://py4e-data.dr-chuck.net/known_by_Kadyleigh.html\"\n",
    "html = urllib.request.urlopen(url, context=ctx).read()\n",
    "soup = BeautifulSoup(html, 'html.parser')\n",
    "\n",
    "\n",
    "count = int(input('Enter count:'))\n",
    "position = int(input('Enter position:'))-1\n",
    "\n",
    "while count >= 0:\n",
    "    html = urllib.request.urlopen(url, context=ctx).read()\n",
    "    soup = BeautifulSoup(html, 'html.parser')\n",
    "    tags = soup('a')\n",
    "    print(\"Retrieving: \", url)\n",
    "    url = tags[position].get(\"href\", None)\n",
    "    count = count - 1\n"
   ]
  }
 ],
 "metadata": {
  "kernelspec": {
   "display_name": "Python 3",
   "language": "python",
   "name": "python3"
  },
  "language_info": {
   "codemirror_mode": {
    "name": "ipython",
    "version": 3
   },
   "file_extension": ".py",
   "mimetype": "text/x-python",
   "name": "python",
   "nbconvert_exporter": "python",
   "pygments_lexer": "ipython3",
   "version": "3.6.1"
  }
 },
 "nbformat": 4,
 "nbformat_minor": 2
}
