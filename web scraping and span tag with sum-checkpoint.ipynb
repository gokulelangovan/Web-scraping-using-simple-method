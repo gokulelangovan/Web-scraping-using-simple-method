{
 "cells": [
  {
   "cell_type": "code",
   "execution_count": 7,
   "metadata": {},
   "outputs": [
    {
     "name": "stdout",
     "output_type": "stream",
     "text": [
      "Enter:http://py4e-data.dr-chuck.net/comments_797710.html\n",
      "2470\n"
     ]
    }
   ],
   "source": [
    "from urllib.request import urlopen\n",
    "from bs4 import BeautifulSoup\n",
    "import ssl\n",
    "import re\n",
    "\n",
    "ctx = ssl.create_default_context()\n",
    "ctx.check_hostname = False\n",
    "ctx.verify_mode = ssl.CERT_NONE\n",
    "\n",
    "url=input('Enter:')\n",
    "html=urlopen(url, context=ctx).read()\n",
    "soup=BeautifulSoup(html,\"html.parser\")\n",
    "sum=0\n",
    "for tag in tags:\n",
    "    # Look at the parts of a tag\n",
    "    y=str(tag)\n",
    "    x= re.findall(\"[0-9]+\",y)\n",
    "    for i in x:\n",
    "        i=int(i)\n",
    "        sum=sum+i\n",
    "print(sum)\n",
    "    "
   ]
  }
 ],
 "metadata": {
  "kernelspec": {
   "display_name": "Python 3",
   "language": "python",
   "name": "python3"
  },
  "language_info": {
   "codemirror_mode": {
    "name": "ipython",
    "version": 3
   },
   "file_extension": ".py",
   "mimetype": "text/x-python",
   "name": "python",
   "nbconvert_exporter": "python",
   "pygments_lexer": "ipython3",
   "version": "3.6.1"
  }
 },
 "nbformat": 4,
 "nbformat_minor": 2
}
